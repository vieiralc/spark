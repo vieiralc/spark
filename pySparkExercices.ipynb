{
  "nbformat": 4,
  "nbformat_minor": 0,
  "metadata": {
    "colab": {
      "provenance": [],
      "authorship_tag": "ABX9TyN9sfwghbg7d6ah5Xg6ajUw",
      "include_colab_link": true
    },
    "kernelspec": {
      "name": "python3",
      "display_name": "Python 3"
    },
    "language_info": {
      "name": "python"
    }
  },
  "cells": [
    {
      "cell_type": "markdown",
      "metadata": {
        "id": "view-in-github",
        "colab_type": "text"
      },
      "source": [
        "<a href=\"https://colab.research.google.com/github/vieiralc/spark/blob/main/pySparkExercices.ipynb\" target=\"_parent\"><img src=\"https://colab.research.google.com/assets/colab-badge.svg\" alt=\"Open In Colab\"/></a>"
      ]
    },
    {
      "cell_type": "code",
      "execution_count": 2,
      "metadata": {
        "colab": {
          "base_uri": "https://localhost:8080/"
        },
        "collapsed": true,
        "id": "pkubL4mNTjfR",
        "outputId": "1b9ad1a2-e90c-4776-d49a-ab539a7640cc"
      },
      "outputs": [
        {
          "output_type": "stream",
          "name": "stdout",
          "text": [
            "Collecting pyspark\n",
            "  Downloading pyspark-3.5.2.tar.gz (317.3 MB)\n",
            "\u001b[2K     \u001b[90m━━━━━━━━━━━━━━━━━━━━━━━━━━━━━━━━━━━━━━━━\u001b[0m \u001b[32m317.3/317.3 MB\u001b[0m \u001b[31m5.0 MB/s\u001b[0m eta \u001b[36m0:00:00\u001b[0m\n",
            "\u001b[?25h  Preparing metadata (setup.py) ... \u001b[?25l\u001b[?25hdone\n",
            "Requirement already satisfied: py4j==0.10.9.7 in /usr/local/lib/python3.10/dist-packages (from pyspark) (0.10.9.7)\n",
            "Building wheels for collected packages: pyspark\n",
            "  Building wheel for pyspark (setup.py) ... \u001b[?25l\u001b[?25hdone\n",
            "  Created wheel for pyspark: filename=pyspark-3.5.2-py2.py3-none-any.whl size=317812365 sha256=76ef304820eb38440e7c24fcc83449fc9906190c44a648e54e31540406a70c4e\n",
            "  Stored in directory: /root/.cache/pip/wheels/34/34/bd/03944534c44b677cd5859f248090daa9fb27b3c8f8e5f49574\n",
            "Successfully built pyspark\n",
            "Installing collected packages: pyspark\n",
            "Successfully installed pyspark-3.5.2\n"
          ]
        }
      ],
      "source": [
        "pip install pyspark"
      ]
    },
    {
      "cell_type": "markdown",
      "source": [
        "# Start a simple spark session"
      ],
      "metadata": {
        "id": "g5WHs81lVHUS"
      }
    },
    {
      "cell_type": "code",
      "source": [
        "from pyspark.sql import SparkSession\n",
        "spark = SparkSession.builder.appName('pyspark_exercices').getOrCreate()"
      ],
      "metadata": {
        "id": "oZioyZ6BURYY"
      },
      "execution_count": 3,
      "outputs": []
    },
    {
      "cell_type": "markdown",
      "source": [
        "# Load the Walmart Stock CSV file, have spark infer the data types"
      ],
      "metadata": {
        "id": "l9JiFXfeVFE_"
      }
    },
    {
      "cell_type": "code",
      "source": [
        "df = spark.read.csv('/content/sample_data/6_walmart_stock.csv', inferSchema=True, header=True)\n",
        "df.show(5)"
      ],
      "metadata": {
        "colab": {
          "base_uri": "https://localhost:8080/"
        },
        "id": "5T9zJQxHVsOY",
        "outputId": "968343d2-3fdb-4bc6-ac12-3eecdfd7a361"
      },
      "execution_count": 11,
      "outputs": [
        {
          "output_type": "stream",
          "name": "stdout",
          "text": [
            "+----------+------------------+---------+---------+------------------+--------+------------------+\n",
            "|      Date|              Open|     High|      Low|             Close|  Volume|         Adj Close|\n",
            "+----------+------------------+---------+---------+------------------+--------+------------------+\n",
            "|2012-01-03|         59.970001|61.060001|59.869999|         60.330002|12668800|52.619234999999996|\n",
            "|2012-01-04|60.209998999999996|60.349998|59.470001|59.709998999999996| 9593300|         52.078475|\n",
            "|2012-01-05|         59.349998|59.619999|58.369999|         59.419998|12768200|         51.825539|\n",
            "|2012-01-06|         59.419998|59.450001|58.869999|              59.0| 8069400|          51.45922|\n",
            "|2012-01-09|         59.029999|59.549999|58.919998|             59.18| 6679300|51.616215000000004|\n",
            "+----------+------------------+---------+---------+------------------+--------+------------------+\n",
            "only showing top 5 rows\n",
            "\n"
          ]
        }
      ]
    },
    {
      "cell_type": "markdown",
      "source": [
        "# What are the column names?"
      ],
      "metadata": {
        "id": "PNKEyq3sXrF0"
      }
    },
    {
      "cell_type": "code",
      "source": [
        "print('The columns are')\n",
        "print('---------')\n",
        "for column in df.columns:\n",
        "  print(column)\n",
        "  print('---------')"
      ],
      "metadata": {
        "colab": {
          "base_uri": "https://localhost:8080/"
        },
        "collapsed": true,
        "id": "FHTLryMKWSHM",
        "outputId": "9daf9944-d7b1-48de-bf5f-ac8ca1826016"
      },
      "execution_count": 21,
      "outputs": [
        {
          "output_type": "stream",
          "name": "stdout",
          "text": [
            "The columns are\n",
            "---------\n",
            "Date\n",
            "---------\n",
            "Open\n",
            "---------\n",
            "High\n",
            "---------\n",
            "Low\n",
            "---------\n",
            "Close\n",
            "---------\n",
            "Volume\n",
            "---------\n",
            "Adj Close\n",
            "---------\n"
          ]
        }
      ]
    },
    {
      "cell_type": "code",
      "source": [
        "df.columns"
      ],
      "metadata": {
        "colab": {
          "base_uri": "https://localhost:8080/"
        },
        "id": "hc6Bt4FZaGC9",
        "outputId": "c8a4a971-82e0-437f-d33d-aa3b1201543d"
      },
      "execution_count": 9,
      "outputs": [
        {
          "output_type": "execute_result",
          "data": {
            "text/plain": [
              "['Date', 'Open', 'High', 'Low', 'Close', 'Volume', 'Adj Close']"
            ]
          },
          "metadata": {},
          "execution_count": 9
        }
      ]
    },
    {
      "cell_type": "markdown",
      "source": [
        "# What does the Schema looks like?"
      ],
      "metadata": {
        "id": "loUdAWIQYZxH"
      }
    },
    {
      "cell_type": "code",
      "source": [
        "df.printSchema()"
      ],
      "metadata": {
        "colab": {
          "base_uri": "https://localhost:8080/"
        },
        "id": "WMtwW2M2XvUD",
        "outputId": "62f77c0e-b47e-47c9-c225-7443fd78aafb"
      },
      "execution_count": 10,
      "outputs": [
        {
          "output_type": "stream",
          "name": "stdout",
          "text": [
            "root\n",
            " |-- Date: date (nullable = true)\n",
            " |-- Open: double (nullable = true)\n",
            " |-- High: double (nullable = true)\n",
            " |-- Low: double (nullable = true)\n",
            " |-- Close: double (nullable = true)\n",
            " |-- Volume: integer (nullable = true)\n",
            " |-- Adj Close: double (nullable = true)\n",
            "\n"
          ]
        }
      ]
    },
    {
      "cell_type": "markdown",
      "source": [
        "# Print the first 5 columns and 5 rows"
      ],
      "metadata": {
        "id": "raZTHx-9Ymw3"
      }
    },
    {
      "cell_type": "code",
      "source": [
        "columns = df.columns[:5]\n",
        "df.select(columns).show(5)"
      ],
      "metadata": {
        "colab": {
          "base_uri": "https://localhost:8080/"
        },
        "id": "kPrIblQ_Y24E",
        "outputId": "eedeee1f-96b3-4f6d-8d76-64d858d369ad"
      },
      "execution_count": 12,
      "outputs": [
        {
          "output_type": "stream",
          "name": "stdout",
          "text": [
            "+----------+------------------+---------+---------+------------------+\n",
            "|      Date|              Open|     High|      Low|             Close|\n",
            "+----------+------------------+---------+---------+------------------+\n",
            "|2012-01-03|         59.970001|61.060001|59.869999|         60.330002|\n",
            "|2012-01-04|60.209998999999996|60.349998|59.470001|59.709998999999996|\n",
            "|2012-01-05|         59.349998|59.619999|58.369999|         59.419998|\n",
            "|2012-01-06|         59.419998|59.450001|58.869999|              59.0|\n",
            "|2012-01-09|         59.029999|59.549999|58.919998|             59.18|\n",
            "+----------+------------------+---------+---------+------------------+\n",
            "only showing top 5 rows\n",
            "\n"
          ]
        }
      ]
    },
    {
      "cell_type": "markdown",
      "source": [
        "# Use describe to learn about the data frame"
      ],
      "metadata": {
        "id": "G2tK78bCY63e"
      }
    },
    {
      "cell_type": "code",
      "source": [
        "df.describe().show()"
      ],
      "metadata": {
        "colab": {
          "base_uri": "https://localhost:8080/"
        },
        "id": "JMDCPJ9qY52V",
        "outputId": "aa06ba6a-9fc4-41a1-b0c3-255ea1f3f96b"
      },
      "execution_count": 35,
      "outputs": [
        {
          "output_type": "stream",
          "name": "stdout",
          "text": [
            "+-------+------------------+-----------------+-----------------+-----------------+-----------------+-----------------+\n",
            "|summary|              Open|             High|              Low|            Close|           Volume|        Adj Close|\n",
            "+-------+------------------+-----------------+-----------------+-----------------+-----------------+-----------------+\n",
            "|  count|              1258|             1258|             1258|             1258|             1258|             1258|\n",
            "|   mean| 72.35785375357709|72.83938807631165| 71.9186009594594|72.38844998012726|8222093.481717011|67.23883848728146|\n",
            "| stddev|  6.76809024470826|6.768186808159218|6.744075756255496|6.756859163732991|  4519780.8431556|6.722609449996857|\n",
            "|    min|56.389998999999996|        57.060001|        56.299999|        56.419998|          2094900|        50.363689|\n",
            "|    max|         90.800003|        90.970001|            89.25|        90.470001|         80898100|84.91421600000001|\n",
            "+-------+------------------+-----------------+-----------------+-----------------+-----------------+-----------------+\n",
            "\n"
          ]
        }
      ]
    },
    {
      "cell_type": "markdown",
      "source": [
        "# There are too many decimal places for mean and stddev in the describe dataframe. Format the numbers to just show up two decimal places."
      ],
      "metadata": {
        "id": "HGQEm6I9aI-s"
      }
    },
    {
      "cell_type": "code",
      "source": [
        "from pyspark.sql.functions import format_number"
      ],
      "metadata": {
        "id": "sX9sCrWGkKa5"
      },
      "execution_count": 17,
      "outputs": []
    },
    {
      "cell_type": "code",
      "source": [
        "desc = df.describe()\n",
        "desc.select('summary',\n",
        "            format_number(desc['Open'].cast('Float'), 2).alias('Open'),\n",
        "            format_number(desc['High'].cast('Float'), 2).alias('High'),\n",
        "            format_number(desc['Low'].cast('Float'), 2).alias('Low'),\n",
        "            format_number(desc['Close'].cast('Float'), 2).alias('Close'),\n",
        "            format_number(desc['Volume'].cast('Float'), 2).alias('Volume'),\n",
        "            format_number(desc['Adj Close'].cast('Float'), 2).alias('Adj Close')).show()"
      ],
      "metadata": {
        "colab": {
          "base_uri": "https://localhost:8080/"
        },
        "id": "2qUBB1VZZmcS",
        "outputId": "320491c0-cdf9-4e37-88c6-bac14c973236"
      },
      "execution_count": 38,
      "outputs": [
        {
          "output_type": "stream",
          "name": "stdout",
          "text": [
            "+-------+--------+--------+--------+--------+-------------+---------+\n",
            "|summary|    Open|    High|     Low|   Close|       Volume|Adj Close|\n",
            "+-------+--------+--------+--------+--------+-------------+---------+\n",
            "|  count|1,258.00|1,258.00|1,258.00|1,258.00|     1,258.00| 1,258.00|\n",
            "|   mean|   72.36|   72.84|   71.92|   72.39| 8,222,093.50|    67.24|\n",
            "| stddev|    6.77|    6.77|    6.74|    6.76| 4,519,781.00|     6.72|\n",
            "|    min|   56.39|   57.06|   56.30|   56.42| 2,094,900.00|    50.36|\n",
            "|    max|   90.80|   90.97|   89.25|   90.47|80,898,096.00|    84.91|\n",
            "+-------+--------+--------+--------+--------+-------------+---------+\n",
            "\n"
          ]
        }
      ]
    },
    {
      "cell_type": "markdown",
      "source": [
        "# Create a new dataframe with a column called HV Ratio that is the ratio of the High Price versus volume of stock traded for a day"
      ],
      "metadata": {
        "id": "F3uvyZqFh_Od"
      }
    },
    {
      "cell_type": "code",
      "source": [
        "new_df = df.withColumn('HV Ratio', df['High']/df['Volume'])\n",
        "new_df.show()"
      ],
      "metadata": {
        "colab": {
          "base_uri": "https://localhost:8080/"
        },
        "id": "qdCoVoGah-l3",
        "outputId": "5b39cbbd-cd16-4f9a-f47c-54f46ad9df6d"
      },
      "execution_count": 43,
      "outputs": [
        {
          "output_type": "stream",
          "name": "stdout",
          "text": [
            "+----------+------------------+------------------+------------------+------------------+--------+------------------+--------------------+\n",
            "|      Date|              Open|              High|               Low|             Close|  Volume|         Adj Close|            HV Ratio|\n",
            "+----------+------------------+------------------+------------------+------------------+--------+------------------+--------------------+\n",
            "|2012-01-03|         59.970001|         61.060001|         59.869999|         60.330002|12668800|52.619234999999996|4.819714653321546E-6|\n",
            "|2012-01-04|60.209998999999996|         60.349998|         59.470001|59.709998999999996| 9593300|         52.078475|6.290848613094555E-6|\n",
            "|2012-01-05|         59.349998|         59.619999|         58.369999|         59.419998|12768200|         51.825539|4.669412994783916E-6|\n",
            "|2012-01-06|         59.419998|         59.450001|         58.869999|              59.0| 8069400|          51.45922|7.367338463826307E-6|\n",
            "|2012-01-09|         59.029999|         59.549999|         58.919998|             59.18| 6679300|51.616215000000004|8.915604778943901E-6|\n",
            "|2012-01-10|             59.43|59.709998999999996|             58.98|59.040001000000004| 6907300|         51.494109|8.644477436914568E-6|\n",
            "|2012-01-11|         59.060001|         59.529999|59.040001000000004|         59.400002| 6365600|         51.808098|9.351828421515645E-6|\n",
            "|2012-01-12|59.790001000000004|              60.0|         59.400002|              59.5| 7236400|51.895315999999994| 8.29141562102703E-6|\n",
            "|2012-01-13|             59.18|59.610001000000004|59.009997999999996|59.540001000000004| 7729300|51.930203999999996|7.712212102001476E-6|\n",
            "|2012-01-17|         59.869999|60.110001000000004|             59.52|         59.849998| 8500000|         52.200581|7.071764823529412E-6|\n",
            "|2012-01-18|59.790001000000004|         60.029999|         59.650002|60.009997999999996| 5911400|         52.340131|1.015495466386981E-5|\n",
            "|2012-01-19|             59.93|             60.73|             59.75|60.610001000000004| 9234600|         52.863447|6.576354146362592...|\n",
            "|2012-01-20|             60.75|             61.25|         60.669998|61.009997999999996|10378800|53.212320999999996| 5.90145296180676E-6|\n",
            "|2012-01-23|         60.810001|             60.98|60.509997999999996|             60.91| 7134100|         53.125104|8.547679455011844E-6|\n",
            "|2012-01-24|             60.75|              62.0|             60.75|61.389998999999996| 7362800| 53.54375400000001|8.420709512685392E-6|\n",
            "|2012-01-25|             61.18|61.610001000000004|61.040001000000004|         61.470001| 5915800| 53.61353100000001|1.041448341728929...|\n",
            "|2012-01-26|         61.799999|             61.84|             60.77|         60.970001| 7436200|         53.177436|8.316075414862431E-6|\n",
            "|2012-01-27|60.860001000000004|         61.119999|60.540001000000004|60.709998999999996| 6287300|         52.950665|9.721183814992126E-6|\n",
            "|2012-01-30|         60.470001|             61.32|         60.349998|         61.299999| 7636900|53.465256999999994|8.029436027707578E-6|\n",
            "|2012-01-31|         61.529999|             61.57|         60.580002|61.360001000000004| 9761500|53.517590000000006|6.307432259386365E-6|\n",
            "+----------+------------------+------------------+------------------+------------------+--------+------------------+--------------------+\n",
            "only showing top 20 rows\n",
            "\n"
          ]
        }
      ]
    },
    {
      "cell_type": "markdown",
      "source": [
        "# What day had the Peak High in Price?"
      ],
      "metadata": {
        "id": "TKVexrZZnLe6"
      }
    },
    {
      "cell_type": "code",
      "source": [
        "df.orderBy(df['High'].desc()).head(1)[0]['Date']"
      ],
      "metadata": {
        "colab": {
          "base_uri": "https://localhost:8080/"
        },
        "id": "nX7wB5bHlWdb",
        "outputId": "eafc3ddd-ad54-404e-a757-f695367a09f6"
      },
      "execution_count": 52,
      "outputs": [
        {
          "output_type": "execute_result",
          "data": {
            "text/plain": [
              "datetime.date(2015, 1, 13)"
            ]
          },
          "metadata": {},
          "execution_count": 52
        }
      ]
    },
    {
      "cell_type": "markdown",
      "source": [
        "# What is the mean of the close column"
      ],
      "metadata": {
        "id": "CNSnbpT8oHhz"
      }
    },
    {
      "cell_type": "code",
      "source": [
        "from pyspark.sql.functions import mean\n",
        "df.select(mean('close')).show()"
      ],
      "metadata": {
        "colab": {
          "base_uri": "https://localhost:8080/"
        },
        "id": "oSQiLe_goERt",
        "outputId": "ef2cc638-91f6-4b96-e765-3ef85cd78b0b"
      },
      "execution_count": 53,
      "outputs": [
        {
          "output_type": "stream",
          "name": "stdout",
          "text": [
            "+-----------------+\n",
            "|       avg(close)|\n",
            "+-----------------+\n",
            "|72.38844998012726|\n",
            "+-----------------+\n",
            "\n"
          ]
        }
      ]
    },
    {
      "cell_type": "markdown",
      "source": [
        "# What is the max and min for Volume column?"
      ],
      "metadata": {
        "id": "GB0b8mqspsjU"
      }
    },
    {
      "cell_type": "code",
      "source": [
        "from pyspark.sql.functions import max, min\n",
        "df.select(max('Volume'), min('Volume')).show()"
      ],
      "metadata": {
        "colab": {
          "base_uri": "https://localhost:8080/"
        },
        "id": "j7dKDNv0pJOD",
        "outputId": "9bf0154a-6228-4c88-f545-3967bce9ea3d"
      },
      "execution_count": 55,
      "outputs": [
        {
          "output_type": "stream",
          "name": "stdout",
          "text": [
            "+-----------+-----------+\n",
            "|max(Volume)|min(Volume)|\n",
            "+-----------+-----------+\n",
            "|   80898100|    2094900|\n",
            "+-----------+-----------+\n",
            "\n"
          ]
        }
      ]
    },
    {
      "cell_type": "markdown",
      "source": [
        "# How many days was the Close lower than 60 dollars?"
      ],
      "metadata": {
        "id": "zMQzQa9rqR7M"
      }
    },
    {
      "cell_type": "code",
      "source": [
        "df[df['Close'] < 60].count()"
      ],
      "metadata": {
        "colab": {
          "base_uri": "https://localhost:8080/"
        },
        "id": "lMprnx1Rp5-b",
        "outputId": "63ed54da-1e4c-4cc4-8ca1-9f31a93f4b54"
      },
      "execution_count": 59,
      "outputs": [
        {
          "output_type": "execute_result",
          "data": {
            "text/plain": [
              "81"
            ]
          },
          "metadata": {},
          "execution_count": 59
        }
      ]
    },
    {
      "cell_type": "markdown",
      "source": [
        "# What percentage of the time was the High greater than 80 dollars? In other words, (Number of days High > 80)/(total days in data set)"
      ],
      "metadata": {
        "id": "zrkJQ7J1qp20"
      }
    },
    {
      "cell_type": "code",
      "source": [
        "total_days = df.count()\n",
        "high_days_greater_than_80 = df[df['High'] > 80].count()\n",
        "percentage = (high_days_greater_than_80 / total_days)*100\n",
        "print(round(percentage, 2), \"%\")\n"
      ],
      "metadata": {
        "colab": {
          "base_uri": "https://localhost:8080/"
        },
        "id": "oFr9tWqUqzU3",
        "outputId": "fe5ff7a9-fac1-4096-a7c6-ca0a93952df8"
      },
      "execution_count": 67,
      "outputs": [
        {
          "output_type": "stream",
          "name": "stdout",
          "text": [
            "9.14 %\n"
          ]
        }
      ]
    },
    {
      "cell_type": "markdown",
      "source": [
        "# What is the Pearson correlation between High and Volume?"
      ],
      "metadata": {
        "id": "NIXjzSeGsJ_g"
      }
    },
    {
      "cell_type": "code",
      "source": [
        "df.corr('High', 'Volume')"
      ],
      "metadata": {
        "colab": {
          "base_uri": "https://localhost:8080/"
        },
        "id": "r521DUEGshyL",
        "outputId": "011bb5c8-4e02-4e3e-839a-7e2ffc03ab52"
      },
      "execution_count": 68,
      "outputs": [
        {
          "output_type": "execute_result",
          "data": {
            "text/plain": [
              "-0.3384326061737161"
            ]
          },
          "metadata": {},
          "execution_count": 68
        }
      ]
    },
    {
      "cell_type": "markdown",
      "source": [
        "# What is the max high per year?"
      ],
      "metadata": {
        "id": "35ozwDpAfl7v"
      }
    },
    {
      "cell_type": "code",
      "source": [
        "from pyspark.sql.functions import year"
      ],
      "metadata": {
        "id": "zVVaMPjbkh75"
      },
      "execution_count": null,
      "outputs": []
    },
    {
      "cell_type": "code",
      "source": [
        "df_year = df.withColumn('Year', year(df['Date']))\n",
        "# df_year.groupBy('Year').max('High').show()\n",
        "df_year.groupBy('Year').max('High').select('Year', format_number('max(High)', 2).alias('Max High')).show()"
      ],
      "metadata": {
        "colab": {
          "base_uri": "https://localhost:8080/"
        },
        "id": "jwOXMLnWfo-D",
        "outputId": "3cf3f176-dfc9-449e-8bcd-3e1c6e744e19"
      },
      "execution_count": 36,
      "outputs": [
        {
          "output_type": "stream",
          "name": "stdout",
          "text": [
            "+----+--------+\n",
            "|Year|Max High|\n",
            "+----+--------+\n",
            "|2015|   90.97|\n",
            "|2013|   81.37|\n",
            "|2014|   88.09|\n",
            "|2012|   77.60|\n",
            "|2016|   75.19|\n",
            "+----+--------+\n",
            "\n"
          ]
        }
      ]
    },
    {
      "cell_type": "markdown",
      "source": [
        "# What is the Close average for each Month? In other words, across all the years, what is the average for Close price. Ex: Jan, Fev, Mar, etc... Your result will have a value for each of these months"
      ],
      "metadata": {
        "id": "gmonCnSviodU"
      }
    },
    {
      "cell_type": "code",
      "source": [
        "from pyspark.sql.functions import month"
      ],
      "metadata": {
        "id": "MODP0MLEnWUP"
      },
      "execution_count": 37,
      "outputs": []
    },
    {
      "cell_type": "code",
      "source": [
        "df_month = df.withColumn('Month', month(df['Date']))\n",
        "df_month.groupBy('Month').avg('Close').select(\n",
        "    'Month',\n",
        "    format_number('avg(Close)', 2).alias('Close Average')\n",
        ").show()"
      ],
      "metadata": {
        "colab": {
          "base_uri": "https://localhost:8080/"
        },
        "id": "GakGvSMZn1KO",
        "outputId": "b47d8842-0955-4811-d517-0bc8f28fbbbc"
      },
      "execution_count": 50,
      "outputs": [
        {
          "output_type": "stream",
          "name": "stdout",
          "text": [
            "+-----+-------------+\n",
            "|Month|Close Average|\n",
            "+-----+-------------+\n",
            "|   12|        72.85|\n",
            "|    1|        71.45|\n",
            "|    6|        72.50|\n",
            "|    3|        71.78|\n",
            "|    5|        72.31|\n",
            "|    9|        72.18|\n",
            "|    4|        72.97|\n",
            "|    8|        73.03|\n",
            "|    7|        74.44|\n",
            "|   10|        71.58|\n",
            "|   11|        72.11|\n",
            "|    2|        71.31|\n",
            "+-----+-------------+\n",
            "\n"
          ]
        }
      ]
    },
    {
      "cell_type": "markdown",
      "source": [
        "# Great Job!"
      ],
      "metadata": {
        "id": "mVdS4EW7pUM2"
      }
    }
  ]
}